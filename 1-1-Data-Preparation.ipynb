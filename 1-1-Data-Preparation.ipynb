{
 "cells": [
  {
   "cell_type": "markdown",
   "metadata": {},
   "source": [
    "## Import Project"
   ]
  },
  {
   "cell_type": "code",
   "execution_count": null,
   "metadata": {
    "collapsed": true
   },
   "outputs": [],
   "source": [
    "import numpy as np\n",
    "import cv2\n",
    "import matplotlib.pyplot as plt\n",
    "import matplotlib.image as mpimg\n",
    "from mpl_toolkits.mplot3d import Axes3D\n",
    "\n",
    "from sklearn.preprocessing import StandardScaler\n",
    "%matplotlib inline\n"
   ]
  },
  {
   "cell_type": "markdown",
   "metadata": {},
   "source": [
    "### Processing Data"
   ]
  },
  {
   "cell_type": "code",
   "execution_count": 1,
   "metadata": {
    "collapsed": true
   },
   "outputs": [],
   "source": [
    "import glob\n",
    "import pickle\n",
    "import matplotlib.image as mpimg\n",
    "\n",
    "def load_training_files():\n",
    "    car_files = glob.glob('data/training_images/vehicles/**/*.png')\n",
    "    notcar_files = glob.glob('data/training_images/non-vehicles/**/*.png')\n",
    "    \n",
    "    imread_func = mpimg.imread\n",
    "#     imread_func = cv2.imread # cv2 uses bgr format\n",
    "    cars = map(imread_func, car_files)\n",
    "    notcars = map(imread_func, notcar_files)\n",
    "    \n",
    "    return cars, notcars\n",
    "\n",
    "cars_map, notcars_map = load_training_files()\n",
    "\n"
   ]
  },
  {
   "cell_type": "markdown",
   "metadata": {},
   "source": [
    "### Saving processed images"
   ]
  },
  {
   "cell_type": "code",
   "execution_count": null,
   "metadata": {
    "collapsed": true
   },
   "outputs": [],
   "source": [
    "pickle.dump(list(cars_map), open('data/car_imgs.p', 'wb'))\n",
    "pickle.dump(list(notcars_map), open('data/non_car_imgs.p', 'wb'))"
   ]
  },
  {
   "cell_type": "code",
   "execution_count": null,
   "metadata": {
    "collapsed": true
   },
   "outputs": [],
   "source": [
    "cars = pickle.load(open('data/car_imgs.p', 'rb'))\n",
    "notcars = pickle.load(open('data/non_car_imgs.p', 'rb'))"
   ]
  },
  {
   "cell_type": "markdown",
   "metadata": {},
   "source": [
    "### Data Exploration"
   ]
  },
  {
   "cell_type": "code",
   "execution_count": null,
   "metadata": {
    "collapsed": true
   },
   "outputs": [],
   "source": [
    "\n",
    "# Define a function to return some characteristics of the dataset \n",
    "def data_look(car_list, notcar_list):\n",
    "    car_imgs = np.array(car_list)\n",
    "    data_dict = {}\n",
    "    # Define a key in data_dict \"n_cars\" and store the number of car images\n",
    "    data_dict[\"n_cars\"] = len(car_list)\n",
    "    # Define a key \"n_notcars\" and store the number of notcar images\n",
    "    data_dict[\"n_notcars\"] = len(notcar_list)\n",
    "    # Read in a test image, either car or notcar\n",
    "    # Define a key \"image_shape\" and store the test image shape 3-tuple\n",
    "    data_dict[\"image_shape\"] = car_imgs.shape[1:]\n",
    "    # Define a key \"data_type\" and store the data type of the test image.\n",
    "    data_dict[\"data_type\"] = car_imgs.dtype\n",
    "    # Return data_dict\n",
    "    return data_dict\n",
    "    \n",
    "def plot_data_look(cars, notcars):\n",
    "    data_info = data_look(cars, notcars)\n",
    "    \n",
    "    print('Your function returned a count of', \n",
    "          data_info[\"n_cars\"], ' cars and', \n",
    "          data_info[\"n_notcars\"], ' non-cars')\n",
    "    print('of size: ',data_info[\"image_shape\"], ' and data type:', \n",
    "          data_info[\"data_type\"])\n",
    "    # Just for fun choose random car / not-car indices and plot example images   \n",
    "    car_ind = np.random.randint(0, len(cars))\n",
    "    notcar_ind = np.random.randint(0, len(notcars))\n",
    "\n",
    "    # Read in car / not-car images\n",
    "    car_image = cars[car_ind]\n",
    "    notcar_image = notcars[notcar_ind]\n",
    "\n",
    "\n",
    "    # Plot the examples\n",
    "    fig = plt.figure()\n",
    "    plt.subplot(121)\n",
    "    plt.imshow(car_image)\n",
    "    plt.title('Example Car Image')\n",
    "    plt.subplot(122)\n",
    "    plt.imshow(notcar_image)\n",
    "    plt.title('Example Not-car Image')\n",
    "\n",
    "plot_data_look(cars, notcars)"
   ]
  }
 ],
 "metadata": {
  "kernelspec": {
   "display_name": "Python 3",
   "language": "python",
   "name": "python3"
  },
  "language_info": {
   "codemirror_mode": {
    "name": "ipython",
    "version": 3
   },
   "file_extension": ".py",
   "mimetype": "text/x-python",
   "name": "python",
   "nbconvert_exporter": "python",
   "pygments_lexer": "ipython3",
   "version": "3.6.3"
  }
 },
 "nbformat": 4,
 "nbformat_minor": 2
}
