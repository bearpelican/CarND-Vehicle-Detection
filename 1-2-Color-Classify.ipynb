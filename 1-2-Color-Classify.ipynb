{
 "cells": [
  {
   "cell_type": "markdown",
   "metadata": {},
   "source": [
    "### Project setup"
   ]
  },
  {
   "cell_type": "code",
   "execution_count": 1,
   "metadata": {
    "collapsed": true
   },
   "outputs": [],
   "source": [
    "import numpy as np\n",
    "import cv2\n",
    "import matplotlib.pyplot as plt\n",
    "import matplotlib.image as mpimg\n",
    "from mpl_toolkits.mplot3d import Axes3D\n",
    "import pickle\n",
    "\n",
    "%matplotlib inline\n",
    "\n",
    "import time\n",
    "from sklearn.svm import LinearSVC\n",
    "from sklearn.preprocessing import StandardScaler\n",
    "# NOTE: the next import is only valid \n",
    "# for scikit-learn version <= 0.17\n",
    "# if you are using scikit-learn >= 0.18 then use this:\n",
    "# from sklearn.model_selection import train_test_split\n",
    "from sklearn.model_selection import train_test_split\n"
   ]
  },
  {
   "cell_type": "code",
   "execution_count": null,
   "metadata": {
    "collapsed": true
   },
   "outputs": [],
   "source": [
    "image = mpimg.imread('test_images/cutout1.jpg')"
   ]
  },
  {
   "cell_type": "code",
   "execution_count": 2,
   "metadata": {
    "collapsed": true
   },
   "outputs": [],
   "source": [
    "cars = pickle.load(open('data/car_imgs.p', 'rb'))\n",
    "notcars = pickle.load(open('data/non_car_imgs.p', 'rb'))"
   ]
  },
  {
   "cell_type": "markdown",
   "metadata": {},
   "source": [
    "## Helpful Extracted functions"
   ]
  },
  {
   "cell_type": "code",
   "execution_count": 3,
   "metadata": {
    "collapsed": true
   },
   "outputs": [],
   "source": [
    "def convert_colorspace(img, color_space='RGB'):\n",
    "    # Convert image to new color space (if specified)\n",
    "    if color_space != 'RGB':\n",
    "        if color_space == 'HSV':\n",
    "            feature_image = cv2.cvtColor(img, cv2.COLOR_RGB2HSV)\n",
    "        elif color_space == 'LUV':\n",
    "            feature_image = cv2.cvtColor(img, cv2.COLOR_RGB2LUV)\n",
    "        elif color_space == 'HLS':\n",
    "            feature_image = cv2.cvtColor(img, cv2.COLOR_RGB2HLS)\n",
    "        elif color_space == 'YUV':\n",
    "            feature_image = cv2.cvtColor(img, cv2.COLOR_RGB2YUV)\n",
    "        elif color_space == 'YCrCb' or color_space == 'YCC':\n",
    "            feature_image = cv2.cvtColor(img, cv2.COLOR_RGB2YCrCb)\n",
    "    else: feature_image = np.copy(img)             \n",
    "    return feature_image"
   ]
  },
  {
   "cell_type": "markdown",
   "metadata": {},
   "source": [
    "### Histograms of Color"
   ]
  },
  {
   "cell_type": "code",
   "execution_count": 4,
   "metadata": {},
   "outputs": [
    {
     "ename": "NameError",
     "evalue": "name 'image' is not defined",
     "output_type": "error",
     "traceback": [
      "\u001b[0;31m---------------------------------------------------------------------------\u001b[0m",
      "\u001b[0;31mNameError\u001b[0m                                 Traceback (most recent call last)",
      "\u001b[0;32m<ipython-input-4-3702db29164d>\u001b[0m in \u001b[0;36m<module>\u001b[0;34m()\u001b[0m\n\u001b[1;32m     36\u001b[0m         \u001b[0mprint\u001b[0m\u001b[0;34m(\u001b[0m\u001b[0;34m'Your function is returning None for at least one variable...'\u001b[0m\u001b[0;34m)\u001b[0m\u001b[0;34m\u001b[0m\u001b[0m\n\u001b[1;32m     37\u001b[0m \u001b[0;34m\u001b[0m\u001b[0m\n\u001b[0;32m---> 38\u001b[0;31m \u001b[0mplot_color_hist\u001b[0m\u001b[0;34m(\u001b[0m\u001b[0mimage\u001b[0m\u001b[0;34m,\u001b[0m \u001b[0;34m'HSV'\u001b[0m\u001b[0;34m)\u001b[0m\u001b[0;34m\u001b[0m\u001b[0m\n\u001b[0m",
      "\u001b[0;31mNameError\u001b[0m: name 'image' is not defined"
     ]
    }
   ],
   "source": [
    "# Define a function to compute color histogram features  \n",
    "def color_hist_ext(img, nbins=32, bins_range=(0, 256)):\n",
    "    # Compute the histogram of the RGB channels separately\n",
    "    rhist = np.histogram(img[:,:,0], bins=nbins, range=bins_range)\n",
    "    ghist = np.histogram(img[:,:,1], bins=nbins, range=bins_range)\n",
    "    bhist = np.histogram(img[:,:,2], bins=nbins, range=bins_range)\n",
    "    # Generating bin centers\n",
    "    bin_edges = rhist[1]\n",
    "    bin_centers = (bin_edges[1:]  + bin_edges[0:len(bin_edges)-1])/2\n",
    "    # Concatenate the histograms into a single feature vector\n",
    "    hist_features = np.concatenate((rhist[0], ghist[0], bhist[0]))\n",
    "    # Return the individual histograms, bin_centers and feature vector\n",
    "    return rhist, ghist, bhist, bin_centers, hist_features\n",
    "    \n",
    "def plot_color_hist(image, color_space='RGB'):\n",
    "    cs_img = convert_colorspace(image, color_space)\n",
    "    rh, gh, bh, bincen, feature_vec = color_hist_ext(cs_img, nbins=32, bins_range=(0, 256))\n",
    "\n",
    "    # Plot a figure with all three bar charts\n",
    "    if rh is not None:\n",
    "        fig = plt.figure(figsize=(12,3))\n",
    "        plt.subplot(131)\n",
    "        plt.bar(bincen, rh[0])\n",
    "        plt.xlim(0, 256)\n",
    "        plt.title(color_space[0]+' Histogram')\n",
    "        plt.subplot(132)\n",
    "        plt.bar(bincen, gh[0])\n",
    "        plt.xlim(0, 256)\n",
    "        plt.title(color_space[1]+' Histogram')\n",
    "        plt.subplot(133)\n",
    "        plt.bar(bincen, bh[0])\n",
    "        plt.xlim(0, 256)\n",
    "        plt.title(color_space[2]+' Histogram')\n",
    "        fig.tight_layout()\n",
    "    else:\n",
    "        print('Your function is returning None for at least one variable...')\n",
    "        \n",
    "plot_color_hist(image, 'HSV')"
   ]
  },
  {
   "cell_type": "markdown",
   "metadata": {},
   "source": [
    "### Explore Color Spaces"
   ]
  },
  {
   "cell_type": "markdown",
   "metadata": {},
   "source": [
    "#### Potential framework for 3d viewing - https://github.com/tody411/ColorHistogram"
   ]
  },
  {
   "cell_type": "code",
   "execution_count": null,
   "metadata": {},
   "outputs": [],
   "source": [
    "plt.imshow(image)"
   ]
  },
  {
   "cell_type": "code",
   "execution_count": 5,
   "metadata": {},
   "outputs": [],
   "source": [
    "def plot3d(pixels, colors_rgb,\n",
    "        axis_labels=list(\"RGB\"), axis_limits=((0, 255), (0, 255), (0, 255))):\n",
    "    \"\"\"Plot pixels in 3D.\"\"\"\n",
    "\n",
    "    # Create figure and 3D axes\n",
    "    fig = plt.figure(figsize=(8, 8))\n",
    "    ax = Axes3D(fig)\n",
    "\n",
    "    # Set axis limits\n",
    "    ax.set_xlim(*axis_limits[0])\n",
    "    ax.set_ylim(*axis_limits[1])\n",
    "    ax.set_zlim(*axis_limits[2])\n",
    "\n",
    "    # Set axis labels and sizes\n",
    "    ax.tick_params(axis='both', which='major', labelsize=14, pad=8)\n",
    "    ax.set_xlabel(axis_labels[0], fontsize=16, labelpad=16)\n",
    "    ax.set_ylabel(axis_labels[1], fontsize=16, labelpad=16)\n",
    "    ax.set_zlabel(axis_labels[2], fontsize=16, labelpad=16)\n",
    "\n",
    "    # Plot pixel values with colors given in colors_rgb\n",
    "    ax.scatter(\n",
    "        pixels[:, :, 0].ravel(),\n",
    "        pixels[:, :, 1].ravel(),\n",
    "        pixels[:, :, 2].ravel(),\n",
    "        c=colors_rgb.reshape((-1, 3)), edgecolors='none')\n",
    "\n",
    "    return ax  # return Axes3D object for further manipulation\n",
    "\n",
    "def plot_colorspace3d(img, color_space):\n",
    "    # Select a small fraction of pixels to plot by subsampling it\n",
    "    scale = max(img.shape[0], img.shape[1], 64) / 64  # at most 64 rows and columns\n",
    "    img_small = cv2.resize(img, (np.int(img.shape[1] / scale), np.int(img.shape[0] / scale)), interpolation=cv2.INTER_NEAREST)\n",
    "\n",
    "    # Convert subsampled image to desired color space(s)\n",
    "#     img_small_RGB = cv2.cvtColor(img_small, cv2.COLOR_BGR2RGB)  # OpenCV uses BGR, matplotlib likes RGB\n",
    "    img_small_RGB = convert_colorspace(img_small, 'RGB')\n",
    "    img_small_HSV = convert_colorspace(img_small, color_space)\n",
    "#     img_small_HSV = cv2.cvtColor(img_small, cv2.COLOR_BGR2HSV)\n",
    "    img_small_rgb = img_small_RGB / 255.  # scaled to [0, 1], only for plotting\n",
    "\n",
    "    # Plot and show\n",
    "#     plot3d(img_small_RGB, img_small_rgb)\n",
    "#     plt.show()\n",
    "\n",
    "    plot3d(img_small_HSV, img_small_rgb, axis_labels=list(color_space))\n",
    "    plt.show()\n",
    "    \n",
    "    "
   ]
  },
  {
   "cell_type": "code",
   "execution_count": null,
   "metadata": {
    "collapsed": true
   },
   "outputs": [],
   "source": [
    "\n",
    "# Read a color image\n",
    "# img = cv2.imread(\"000275.png\")\n",
    "plot_colorspace3d(image, 'RGB')\n",
    "plot_colorspace3d(image, 'HSV')\n",
    "plot_colorspace3d(image, 'LUV')\n",
    "plot_colorspace3d(image, 'HLS')\n",
    "plot_colorspace3d(image, 'YUV')"
   ]
  },
  {
   "cell_type": "markdown",
   "metadata": {},
   "source": [
    "## Spacial Binning of Color"
   ]
  },
  {
   "cell_type": "code",
   "execution_count": 6,
   "metadata": {},
   "outputs": [],
   "source": [
    "# Define a function to compute color histogram features  \n",
    "# Pass the color_space flag as 3-letter all caps string\n",
    "# like 'HSV' or 'LUV' etc.\n",
    "# KEEP IN MIND IF YOU DECIDE TO USE THIS FUNCTION LATER\n",
    "# IN YOUR PROJECT THAT IF YOU READ THE IMAGE WITH \n",
    "# cv2.imread() INSTEAD YOU START WITH BGR COLOR!\n",
    "def bin_spatial(img, size=(32, 32)):\n",
    "    # Use cv2.resize().ravel() to create the feature vector\n",
    "    features = cv2.resize(img, size).ravel() \n",
    "    # Return the feature vector\n",
    "    return features\n",
    "    \n",
    "def plot_bin_spatial(img):\n",
    "    convert_img = convert_colorspace(image, 'RGB')\n",
    "    feature_vec = bin_spatial(convert_img, size=(32, 32))\n",
    "\n",
    "    # Plot features\n",
    "    plt.plot(feature_vec)\n",
    "    plt.title('Spatially Binned Features')\n",
    "    "
   ]
  },
  {
   "cell_type": "code",
   "execution_count": null,
   "metadata": {
    "collapsed": true
   },
   "outputs": [],
   "source": [
    "\n",
    "plot_bin_spatial(image)"
   ]
  },
  {
   "cell_type": "markdown",
   "metadata": {},
   "source": [
    "### Combine and normalize features"
   ]
  },
  {
   "cell_type": "code",
   "execution_count": 7,
   "metadata": {
    "collapsed": true
   },
   "outputs": [],
   "source": [
    "# Define a function to compute color histogram features  \n",
    "def color_hist(img, nbins=32, bins_range=(0, 256)):\n",
    "    # Compute the histogram of the color channels separately\n",
    "    channel1_hist = np.histogram(img[:,:,0], bins=nbins, range=bins_range)\n",
    "    channel2_hist = np.histogram(img[:,:,1], bins=nbins, range=bins_range)\n",
    "    channel3_hist = np.histogram(img[:,:,2], bins=nbins, range=bins_range)\n",
    "    # Concatenate the histograms into a single feature vector\n",
    "    hist_features = np.concatenate((channel1_hist[0], channel2_hist[0], channel3_hist[0]))\n",
    "    # Return the individual histograms, bin_centers and feature vector\n",
    "    return hist_features\n",
    "\n",
    "###### TODO ###########\n",
    "# Define a function to extract features from a list of images\n",
    "# Have this function call bin_spatial() and color_hist()\n",
    "def extract_color_features(imgs, cspace='RGB', spatial_size=(32, 32),\n",
    "                        hist_bins=32, hist_range=(0, 256)):\n",
    "    # Create a list to append feature vectors to\n",
    "    features = []\n",
    "    # Iterate through the list of images\n",
    "    for img in imgs:\n",
    "        # Read in each one by one\n",
    "        feature_image = convert_colorspace(img, cspace)    \n",
    "        # Apply bin_spatial() to get spatial color features\n",
    "        spatial_features = bin_spatial(feature_image, size=spatial_size)\n",
    "        # Apply color_hist() also with a color space option now\n",
    "        hist_features = color_hist(feature_image, nbins=hist_bins, bins_range=hist_range)\n",
    "        # Append the new feature vector to the features list\n",
    "        features.append(np.concatenate((spatial_features, hist_features)))\n",
    "    # Return list of feature vectors\n",
    "    return features\n",
    "\n",
    "\n",
    "def load_color_features(cspace, spatial_size, hist_bins, hist_range):\n",
    "    t=time.time()\n",
    "    \n",
    "    picklefile = cspace+'-'+str(spatial_size[0])+'-'+str(hist_bins)+'-'+str(hist_range[0])+'-'+str(hist_range[1])\n",
    "    car_features_file = 'data/'+picklefile+'-car_color_features.p'\n",
    "    notcar_features_file = 'data/'+picklefile+'-noncar_color_features.p'\n",
    "    try:\n",
    "        car_features = pickle.load(open(car_features_file, 'rb'))\n",
    "        notcar_features = pickle.load(open(notcar_features_file, 'rb'))\n",
    "        t2 = time.time()\n",
    "        print(round(t2-t, 2), 'Seconds to load Color features from save...')\n",
    "    except FileNotFoundError as e:\n",
    "        \n",
    "        car_features = extract_color_features(cars, cspace, spatial_size,\n",
    "                                hist_bins, hist_range)\n",
    "        notcar_features = extract_color_features(notcars, cspace, spatial_size,\n",
    "                                hist_bins, hist_range)\n",
    "\n",
    "        pickle.dump(car_features, open(car_features_file, \"wb\"))\n",
    "        pickle.dump(notcar_features, open(notcar_features_file, \"wb\"))\n",
    "\n",
    "        t2 = time.time()\n",
    "        print(round(t2-t, 2), 'Seconds to extract Color features...')\n",
    "    return car_features, notcar_features\n"
   ]
  },
  {
   "cell_type": "code",
   "execution_count": 8,
   "metadata": {
    "collapsed": true
   },
   "outputs": [],
   "source": [
    "def visualize_features(car_features, notcar_features):\n",
    "    # Create an array stack of feature vectors\n",
    "    X = np.vstack((car_features, notcar_features)).astype(np.float64)                        \n",
    "    # Fit a per-column scaler\n",
    "    X_scaler = StandardScaler().fit(X)\n",
    "    # Apply the scaler to X\n",
    "    scaled_X = X_scaler.transform(X)\n",
    "    car_ind = np.random.randint(0, len(cars))\n",
    "    \n",
    "    \n",
    "    # Plot an example of raw and scaled features\n",
    "    fig = plt.figure(figsize=(12,4))\n",
    "    plt.subplot(141)\n",
    "    plt.imshow(cars[car_ind])\n",
    "    plt.title('Original Image')\n",
    "    plt.subplot(142)\n",
    "    plt.plot(X[car_ind])\n",
    "    plt.title('Raw Features')\n",
    "    plt.subplot(143)\n",
    "    plt.plot(scaled_X[car_ind])\n",
    "    plt.title('Normalized Features')\n",
    "    fig.tight_layout()\n",
    "    \n",
    "    plt.subplot(144)\n",
    "    mean_X = np.mean(scaled_X[:len(cars)], axis=1)\n",
    "    plt.plot(mean_X)\n",
    "    print(mean_X.shape)\n",
    "    plt.title('Mean Norm Features')\n",
    "    fig.tight_layout()\n",
    "\n",
    "\n",
    "    notcar_ind = np.random.randint(0, len(notcars))\n",
    "    fig = plt.figure(figsize=(12,4))\n",
    "    plt.subplot(141)\n",
    "    plt.imshow(notcars[notcar_ind])\n",
    "    plt.title('Original Image')\n",
    "    plt.subplot(142)\n",
    "    plt.plot(X[notcar_ind+len(cars)])\n",
    "    plt.title('Raw Features')\n",
    "    plt.subplot(143)\n",
    "    plt.plot(scaled_X[notcar_ind+len(cars)])\n",
    "    plt.title('Normalized Features')\n",
    "    fig.tight_layout()\n",
    "    \n",
    "    plt.subplot(144)\n",
    "    mean_X = np.mean(scaled_X[len(cars):], axis=1)\n",
    "    plt.plot(mean_X)\n",
    "    print(mean_X.shape)\n",
    "    plt.title('Mean Norm Features')\n",
    "    fig.tight_layout()\n",
    "    \n",
    "    \n",
    "def visualize_colorspace_features():\n",
    "    color_spaces = ['RGB', 'HSV', 'LUV', 'HLS', 'YUV', 'YCC']\n",
    "    n_spaces = len(color_spaces)\n",
    "\n",
    "    fig, axarr = plt.subplots(2, n_spaces, figsize=(20,8))\n",
    "    for idx, color_space in enumerate(color_spaces):\n",
    "        car_features, notcar_features = load_color_features(cspace=color_space, spatial_size=(32, 32),\n",
    "                                hist_bins=32, hist_range=(0, 256))\n",
    "        \n",
    "        # Create an array stack of feature vectors\n",
    "        X = np.vstack((car_features, notcar_features)).astype(np.float64)                        \n",
    "        # Fit a per-column scaler\n",
    "        X_scaler = StandardScaler().fit(X)\n",
    "        # Apply the scaler to X\n",
    "        scaled_X = X_scaler.transform(X)\n",
    "        car_ind = np.random.randint(0, len(cars))\n",
    "        \n",
    "        axarr[0, idx].set_title('Car Norm: '+color_space)\n",
    "        mean_X = np.mean(scaled_X[:len(cars)], axis=1)\n",
    "        axarr[0, idx].plot(mean_X)\n",
    "        \n",
    "        \n",
    "        axarr[1, idx].set_title('Noncar Norm: '+color_space)\n",
    "        mean_X = np.mean(scaled_X[len(cars):], axis=1)\n",
    "        axarr[1, idx].plot(mean_X)\n",
    "        \n"
   ]
  },
  {
   "cell_type": "code",
   "execution_count": 9,
   "metadata": {
    "collapsed": true
   },
   "outputs": [],
   "source": [
    "def visualize_colorspace(color_space='RGB', spatial=32, histbin=32, hist_range=(0,256)):\n",
    "    car_features, notcar_features = load_color_features(cspace=color_space, spatial_size=(spatial, spatial),\n",
    "                            hist_bins=histbin, hist_range=(0, 256))\n",
    "    visualize_features(car_features, notcar_features)"
   ]
  },
  {
   "cell_type": "code",
   "execution_count": null,
   "metadata": {},
   "outputs": [],
   "source": [
    "visualize_colorspace_features()"
   ]
  },
  {
   "cell_type": "code",
   "execution_count": null,
   "metadata": {},
   "outputs": [],
   "source": [
    "visualize_colorspace(color_space='LUV')"
   ]
  },
  {
   "cell_type": "code",
   "execution_count": null,
   "metadata": {},
   "outputs": [],
   "source": [
    "visualize_colorspace(color_space='LUV')"
   ]
  },
  {
   "cell_type": "markdown",
   "metadata": {},
   "source": [
    "### Color Classify"
   ]
  },
  {
   "cell_type": "code",
   "execution_count": 13,
   "metadata": {
    "collapsed": true
   },
   "outputs": [],
   "source": [
    "\n",
    "def svc_predict(cars, notcars, color_space='RGB', spatial=16, histbin=32):\n",
    "    car_features, notcar_features = load_color_features(cspace=color_space, spatial_size=(spatial, spatial),\n",
    "                            hist_bins=histbin, hist_range=(0, 256))\n",
    "\n",
    "    # Create an array stack of feature vectors\n",
    "    X = np.vstack((car_features, notcar_features)).astype(np.float64)                        \n",
    "    # Fit a per-column scaler\n",
    "    X_scaler = StandardScaler().fit(X)\n",
    "    # Apply the scaler to X\n",
    "    scaled_X = X_scaler.transform(X)\n",
    "\n",
    "    # Define the labels vector\n",
    "    y = np.hstack((np.ones(len(car_features)), np.zeros(len(notcar_features))))\n",
    "\n",
    "\n",
    "    # Split up data into randomized training and test sets\n",
    "    rand_state = np.random.randint(0, 100)\n",
    "    X_train, X_test, y_train, y_test = train_test_split(\n",
    "        scaled_X, y, test_size=0.2, random_state=rand_state)\n",
    "\n",
    "    print('Using spatial binning of:',spatial,\n",
    "        'and', histbin,'histogram bins.', 'Colorspace:', color_space)\n",
    "    print('Feature vector length:', len(X_train[0]))\n",
    "    # Use a linear SVC \n",
    "    svc = LinearSVC()\n",
    "    # Check the training time for the SVC\n",
    "    t=time.time()\n",
    "    svc.fit(X_train, y_train)\n",
    "    t2 = time.time()\n",
    "    print(round(t2-t, 2), 'Seconds to train SVC...')\n",
    "    # Check the score of the SVC\n",
    "    print('Test Accuracy of SVC = ', round(svc.score(X_test, y_test), 4))\n",
    "    # Check the prediction time for a single sample\n",
    "    t=time.time()\n",
    "    n_predict = 10\n",
    "    print('My SVC predicts: ', svc.predict(X_test[0:n_predict]))\n",
    "    print('For these',n_predict, 'labels: ', y_test[0:n_predict])\n",
    "    t2 = time.time()\n",
    "    print(round(t2-t, 5), 'Seconds to predict', n_predict,'labels with SVC')\n",
    "    print('--------------------------------------------------------')"
   ]
  },
  {
   "cell_type": "code",
   "execution_count": 16,
   "metadata": {
    "collapsed": true
   },
   "outputs": [],
   "source": [
    "def predict_all_colorspaces():\n",
    "    color_spaces = ['RGB', 'HSV', 'LUV', 'HLS', 'YUV', 'YCC']\n",
    "    for color_space in color_spaces:\n",
    "        svc_predict(cars, notcars, color_space=color_space, spatial=32)"
   ]
  },
  {
   "cell_type": "code",
   "execution_count": 15,
   "metadata": {},
   "outputs": [
    {
     "name": "stdout",
     "output_type": "stream",
     "text": [
      "0.27 Seconds to load Color features from save...\n",
      "Using spatial binning of: 16 and 32 histogram bins. Colorspace: RGB\n",
      "Feature vector length: 864\n",
      "14.25 Seconds to train SVC...\n",
      "Test Accuracy of SVC =  0.9215\n",
      "My SVC predicts:  [ 0.  0.  0.  1.  1.  1.  1.  0.  0.  0.]\n",
      "For these 10 labels:  [ 0.  0.  0.  1.  1.  1.  1.  0.  0.  0.]\n",
      "0.00108 Seconds to predict 10 labels with SVC\n",
      "--------------------------------------------------------\n",
      "6.85 Seconds to extract Color features...\n",
      "Using spatial binning of: 16 and 32 histogram bins. Colorspace: HSV\n",
      "Feature vector length: 864\n",
      "12.48 Seconds to train SVC...\n",
      "Test Accuracy of SVC =  0.92\n",
      "My SVC predicts:  [ 1.  0.  1.  0.  0.  1.  0.  0.  1.  1.]\n",
      "For these 10 labels:  [ 1.  0.  1.  0.  0.  1.  0.  0.  1.  1.]\n",
      "0.00128 Seconds to predict 10 labels with SVC\n",
      "--------------------------------------------------------\n",
      "6.92 Seconds to extract Color features...\n",
      "Using spatial binning of: 16 and 32 histogram bins. Colorspace: LUV\n",
      "Feature vector length: 864\n",
      "7.71 Seconds to train SVC...\n",
      "Test Accuracy of SVC =  0.9569\n",
      "My SVC predicts:  [ 0.  1.  1.  1.  0.  0.  0.  1.  0.  1.]\n",
      "For these 10 labels:  [ 0.  1.  1.  1.  0.  0.  0.  1.  0.  1.]\n",
      "0.0012 Seconds to predict 10 labels with SVC\n",
      "--------------------------------------------------------\n",
      "6.41 Seconds to extract Color features...\n",
      "Using spatial binning of: 16 and 32 histogram bins. Colorspace: HLS\n",
      "Feature vector length: 864\n",
      "12.79 Seconds to train SVC...\n",
      "Test Accuracy of SVC =  0.9169\n",
      "My SVC predicts:  [ 0.  1.  0.  0.  0.  1.  1.  1.  1.  0.]\n",
      "For these 10 labels:  [ 0.  1.  0.  0.  0.  1.  1.  1.  1.  0.]\n",
      "0.00133 Seconds to predict 10 labels with SVC\n",
      "--------------------------------------------------------\n",
      "6.65 Seconds to extract Color features...\n",
      "Using spatial binning of: 16 and 32 histogram bins. Colorspace: YUV\n",
      "Feature vector length: 864\n",
      "15.87 Seconds to train SVC...\n",
      "Test Accuracy of SVC =  0.9169\n",
      "My SVC predicts:  [ 0.  0.  1.  0.  0.  0.  1.  1.  0.  1.]\n",
      "For these 10 labels:  [ 0.  0.  1.  0.  0.  0.  1.  1.  0.  1.]\n",
      "0.00119 Seconds to predict 10 labels with SVC\n",
      "--------------------------------------------------------\n",
      "7.3 Seconds to extract Color features...\n",
      "Using spatial binning of: 16 and 32 histogram bins. Colorspace: YCC\n",
      "Feature vector length: 864\n",
      "16.89 Seconds to train SVC...\n",
      "Test Accuracy of SVC =  0.9254\n",
      "My SVC predicts:  [ 1.  0.  0.  0.  1.  1.  0.  0.  0.  1.]\n",
      "For these 10 labels:  [ 0.  0.  0.  1.  1.  1.  0.  0.  0.  1.]\n",
      "0.00135 Seconds to predict 10 labels with SVC\n",
      "--------------------------------------------------------\n"
     ]
    }
   ],
   "source": [
    "color_spaces = ['RGB', 'HSV', 'LUV', 'HLS', 'YUV', 'YCC']\n",
    "for color_space in color_spaces:\n",
    "    svc_predict(cars, notcars, color_space=color_space, spatial=16)"
   ]
  },
  {
   "cell_type": "code",
   "execution_count": 17,
   "metadata": {},
   "outputs": [
    {
     "name": "stdout",
     "output_type": "stream",
     "text": [
      "0.41 Seconds to load Color features from save...\n",
      "Using spatial binning of: 32 and 32 histogram bins. Colorspace: RGB\n",
      "Feature vector length: 3168\n",
      "35.76 Seconds to train SVC...\n",
      "Test Accuracy of SVC =  0.913\n",
      "My SVC predicts:  [ 1.  0.  1.  0.  1.  1.  1.  1.  0.  1.]\n",
      "For these 10 labels:  [ 1.  1.  1.  0.  1.  1.  1.  1.  0.  1.]\n",
      "0.0016 Seconds to predict 10 labels with SVC\n",
      "--------------------------------------------------------\n",
      "0.42 Seconds to load Color features from save...\n",
      "Using spatial binning of: 32 and 32 histogram bins. Colorspace: LUV\n",
      "Feature vector length: 3168\n",
      "22.52 Seconds to train SVC...\n",
      "Test Accuracy of SVC =  0.9375\n",
      "My SVC predicts:  [ 0.  1.  0.  1.  0.  0.  1.  0.  1.  1.]\n",
      "For these 10 labels:  [ 0.  1.  0.  1.  0.  0.  1.  0.  1.  1.]\n",
      "0.0015 Seconds to predict 10 labels with SVC\n",
      "--------------------------------------------------------\n",
      "0.42 Seconds to load Color features from save...\n",
      "Using spatial binning of: 32 and 32 histogram bins. Colorspace: YCC\n",
      "Feature vector length: 3168\n",
      "30.51 Seconds to train SVC...\n",
      "Test Accuracy of SVC =  0.8989\n",
      "My SVC predicts:  [ 1.  1.  1.  1.  0.  0.  1.  1.  1.  0.]\n",
      "For these 10 labels:  [ 1.  1.  1.  1.  0.  1.  1.  1.  1.  0.]\n",
      "0.00153 Seconds to predict 10 labels with SVC\n",
      "--------------------------------------------------------\n",
      "0.41 Seconds to load Color features from save...\n",
      "Using spatial binning of: 32 and 32 histogram bins. Colorspace: HSV\n",
      "Feature vector length: 3168\n",
      "24.25 Seconds to train SVC...\n",
      "Test Accuracy of SVC =  0.9037\n",
      "My SVC predicts:  [ 1.  0.  0.  0.  1.  0.  0.  0.  1.  0.]\n",
      "For these 10 labels:  [ 0.  0.  0.  0.  1.  0.  0.  0.  1.  0.]\n",
      "0.00135 Seconds to predict 10 labels with SVC\n",
      "--------------------------------------------------------\n",
      "0.4 Seconds to load Color features from save...\n",
      "Using spatial binning of: 32 and 32 histogram bins. Colorspace: HLS\n",
      "Feature vector length: 3168\n",
      "23.92 Seconds to train SVC...\n",
      "Test Accuracy of SVC =  0.9015\n",
      "My SVC predicts:  [ 0.  0.  0.  0.  0.  0.  1.  1.  1.  1.]\n",
      "For these 10 labels:  [ 0.  0.  0.  1.  0.  0.  1.  1.  1.  0.]\n",
      "0.00161 Seconds to predict 10 labels with SVC\n",
      "--------------------------------------------------------\n",
      "0.39 Seconds to load Color features from save...\n",
      "Using spatial binning of: 32 and 32 histogram bins. Colorspace: YUV\n",
      "Feature vector length: 3168\n",
      "27.63 Seconds to train SVC...\n",
      "Test Accuracy of SVC =  0.9029\n",
      "My SVC predicts:  [ 0.  1.  0.  0.  1.  1.  0.  1.  0.  0.]\n",
      "For these 10 labels:  [ 0.  1.  0.  0.  1.  1.  0.  1.  1.  0.]\n",
      "0.00151 Seconds to predict 10 labels with SVC\n",
      "--------------------------------------------------------\n"
     ]
    }
   ],
   "source": [
    "color_spaces = ['RGB', 'LUV', 'YCC', 'HSV', 'HLS', 'YUV']\n",
    "for color_space in color_spaces:\n",
    "    svc_predict(cars, notcars, color_space=color_space, spatial=32)"
   ]
  },
  {
   "cell_type": "code",
   "execution_count": 18,
   "metadata": {},
   "outputs": [
    {
     "name": "stdout",
     "output_type": "stream",
     "text": [
      "5.99 Seconds to extract Color features...\n",
      "Using spatial binning of: 8 and 32 histogram bins. Colorspace: RGB\n",
      "Feature vector length: 288\n",
      "6.02 Seconds to train SVC...\n",
      "Test Accuracy of SVC =  0.8992\n",
      "My SVC predicts:  [ 0.  1.  0.  0.  1.  0.  1.  1.  1.  1.]\n",
      "For these 10 labels:  [ 1.  1.  0.  0.  1.  0.  1.  1.  1.  1.]\n",
      "0.00111 Seconds to predict 10 labels with SVC\n",
      "--------------------------------------------------------\n",
      "6.75 Seconds to extract Color features...\n",
      "Using spatial binning of: 8 and 32 histogram bins. Colorspace: LUV\n",
      "Feature vector length: 288\n",
      "4.86 Seconds to train SVC...\n",
      "Test Accuracy of SVC =  0.962\n",
      "My SVC predicts:  [ 0.  0.  1.  1.  1.  1.  1.  1.  0.  0.]\n",
      "For these 10 labels:  [ 0.  0.  1.  1.  1.  1.  1.  1.  0.  0.]\n",
      "0.00133 Seconds to predict 10 labels with SVC\n",
      "--------------------------------------------------------\n",
      "6.64 Seconds to extract Color features...\n",
      "Using spatial binning of: 8 and 32 histogram bins. Colorspace: YCC\n",
      "Feature vector length: 288\n",
      "6.66 Seconds to train SVC...\n",
      "Test Accuracy of SVC =  0.9051\n",
      "My SVC predicts:  [ 0.  0.  0.  0.  1.  1.  1.  0.  0.  0.]\n",
      "For these 10 labels:  [ 0.  0.  0.  1.  1.  0.  1.  0.  0.  1.]\n",
      "0.00149 Seconds to predict 10 labels with SVC\n",
      "--------------------------------------------------------\n",
      "7.09 Seconds to extract Color features...\n",
      "Using spatial binning of: 8 and 32 histogram bins. Colorspace: HSV\n",
      "Feature vector length: 288\n",
      "6.42 Seconds to train SVC...\n",
      "Test Accuracy of SVC =  0.9153\n",
      "My SVC predicts:  [ 1.  1.  1.  1.  1.  0.  1.  1.  1.  1.]\n",
      "For these 10 labels:  [ 1.  1.  1.  1.  1.  0.  1.  1.  0.  1.]\n",
      "0.00131 Seconds to predict 10 labels with SVC\n",
      "--------------------------------------------------------\n",
      "6.88 Seconds to extract Color features...\n",
      "Using spatial binning of: 8 and 32 histogram bins. Colorspace: HLS\n",
      "Feature vector length: 288\n",
      "7.15 Seconds to train SVC...\n",
      "Test Accuracy of SVC =  0.9136\n",
      "My SVC predicts:  [ 0.  1.  0.  0.  1.  0.  0.  0.  1.  0.]\n",
      "For these 10 labels:  [ 0.  1.  0.  0.  1.  0.  0.  0.  1.  0.]\n",
      "0.00134 Seconds to predict 10 labels with SVC\n",
      "--------------------------------------------------------\n",
      "6.78 Seconds to extract Color features...\n",
      "Using spatial binning of: 8 and 32 histogram bins. Colorspace: YUV\n",
      "Feature vector length: 288\n",
      "6.44 Seconds to train SVC...\n",
      "Test Accuracy of SVC =  0.9099\n",
      "My SVC predicts:  [ 0.  1.  1.  0.  1.  1.  1.  1.  0.  0.]\n",
      "For these 10 labels:  [ 0.  1.  1.  0.  1.  0.  1.  1.  0.  0.]\n",
      "0.00132 Seconds to predict 10 labels with SVC\n",
      "--------------------------------------------------------\n"
     ]
    }
   ],
   "source": [
    "color_spaces = ['RGB', 'LUV', 'YCC', 'HSV', 'HLS', 'YUV']\n",
    "for color_space in color_spaces:\n",
    "    svc_predict(cars, notcars, color_space=color_space, spatial=8)"
   ]
  },
  {
   "cell_type": "code",
   "execution_count": 19,
   "metadata": {},
   "outputs": [
    {
     "name": "stdout",
     "output_type": "stream",
     "text": [
      "6.58 Seconds to extract Color features...\n",
      "Using spatial binning of: 8 and 16 histogram bins. Colorspace: RGB\n",
      "Feature vector length: 240\n",
      "7.23 Seconds to train SVC...\n",
      "Test Accuracy of SVC =  0.8933\n",
      "My SVC predicts:  [ 1.  1.  1.  0.  0.  1.  1.  1.  0.  1.]\n",
      "For these 10 labels:  [ 1.  1.  1.  0.  1.  1.  1.  1.  0.  1.]\n",
      "0.0013 Seconds to predict 10 labels with SVC\n",
      "--------------------------------------------------------\n",
      "6.86 Seconds to extract Color features...\n",
      "Using spatial binning of: 8 and 16 histogram bins. Colorspace: LUV\n",
      "Feature vector length: 240\n",
      "4.63 Seconds to train SVC...\n",
      "Test Accuracy of SVC =  0.944\n",
      "My SVC predicts:  [ 1.  0.  0.  0.  0.  0.  1.  1.  1.  1.]\n",
      "For these 10 labels:  [ 1.  0.  0.  0.  0.  0.  1.  0.  1.  1.]\n",
      "0.00119 Seconds to predict 10 labels with SVC\n",
      "--------------------------------------------------------\n",
      "6.72 Seconds to extract Color features...\n",
      "Using spatial binning of: 8 and 16 histogram bins. Colorspace: YCC\n",
      "Feature vector length: 240\n",
      "7.06 Seconds to train SVC...\n",
      "Test Accuracy of SVC =  0.9074\n",
      "My SVC predicts:  [ 1.  1.  0.  1.  0.  0.  1.  0.  1.  1.]\n",
      "For these 10 labels:  [ 1.  1.  0.  1.  0.  0.  1.  0.  1.  0.]\n",
      "0.00171 Seconds to predict 10 labels with SVC\n",
      "--------------------------------------------------------\n",
      "7.28 Seconds to extract Color features...\n",
      "Using spatial binning of: 8 and 16 histogram bins. Colorspace: HSV\n",
      "Feature vector length: 240\n",
      "7.15 Seconds to train SVC...\n",
      "Test Accuracy of SVC =  0.8863\n",
      "My SVC predicts:  [ 1.  1.  1.  1.  1.  1.  0.  1.  1.  1.]\n",
      "For these 10 labels:  [ 1.  1.  1.  1.  1.  1.  0.  1.  1.  1.]\n",
      "0.00127 Seconds to predict 10 labels with SVC\n",
      "--------------------------------------------------------\n",
      "7.17 Seconds to extract Color features...\n",
      "Using spatial binning of: 8 and 16 histogram bins. Colorspace: HLS\n",
      "Feature vector length: 240\n",
      "6.85 Seconds to train SVC...\n",
      "Test Accuracy of SVC =  0.8927\n",
      "My SVC predicts:  [ 1.  1.  1.  0.  0.  0.  1.  0.  1.  0.]\n",
      "For these 10 labels:  [ 1.  0.  1.  0.  0.  1.  1.  0.  1.  0.]\n",
      "0.00121 Seconds to predict 10 labels with SVC\n",
      "--------------------------------------------------------\n",
      "6.81 Seconds to extract Color features...\n",
      "Using spatial binning of: 8 and 16 histogram bins. Colorspace: YUV\n",
      "Feature vector length: 240\n",
      "6.66 Seconds to train SVC...\n",
      "Test Accuracy of SVC =  0.9029\n",
      "My SVC predicts:  [ 0.  1.  1.  0.  1.  1.  1.  0.  0.  1.]\n",
      "For these 10 labels:  [ 0.  1.  1.  0.  1.  0.  1.  0.  0.  1.]\n",
      "0.00119 Seconds to predict 10 labels with SVC\n",
      "--------------------------------------------------------\n"
     ]
    }
   ],
   "source": [
    "color_spaces = ['RGB', 'LUV', 'YCC', 'HSV', 'HLS', 'YUV']\n",
    "for color_space in color_spaces:\n",
    "    svc_predict(cars, notcars, color_space=color_space, spatial=8, histbin=16)"
   ]
  }
 ],
 "metadata": {
  "kernelspec": {
   "display_name": "Python 3",
   "language": "python",
   "name": "python3"
  },
  "language_info": {
   "codemirror_mode": {
    "name": "ipython",
    "version": 3
   },
   "file_extension": ".py",
   "mimetype": "text/x-python",
   "name": "python",
   "nbconvert_exporter": "python",
   "pygments_lexer": "ipython3",
   "version": "3.6.3"
  }
 },
 "nbformat": 4,
 "nbformat_minor": 2
}
